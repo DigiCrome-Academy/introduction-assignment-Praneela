{
 "cells": [
  {
   "cell_type": "code",
   "execution_count": 2,
   "id": "05941f6d-1fa5-4332-a2e2-49bc6f2173d4",
   "metadata": {},
   "outputs": [
    {
     "name": "stdout",
     "output_type": "stream",
     "text": [
      "Data - Science - Rocks\n"
     ]
    }
   ],
   "source": [
    "print(\"Data\",\"Science\",\"Rocks\", sep = \" - \")"
   ]
  },
  {
   "cell_type": "code",
   "execution_count": 3,
   "id": "56279d84-1f8a-4de1-b616-95bdf32005f1",
   "metadata": {},
   "outputs": [
    {
     "name": "stdout",
     "output_type": "stream",
     "text": [
      "Processing data...Done!\n"
     ]
    }
   ],
   "source": [
    "print(\"Processing data\", end = \"...\")\n",
    "print(\"Done!\")"
   ]
  },
  {
   "cell_type": "code",
   "execution_count": 6,
   "id": "0eaeeb55-2908-4571-9755-fe9ed5539da1",
   "metadata": {},
   "outputs": [
    {
     "name": "stdout",
     "output_type": "stream",
     "text": [
      "Hello I'm Ryan I am 12 years old\n"
     ]
    }
   ],
   "source": [
    "# Using  f string\n",
    "name = \"Ryan\"\n",
    "age = \"12\"\n",
    "print(f\"Hello I'm {name} I am {age} years old\")"
   ]
  },
  {
   "cell_type": "code",
   "execution_count": 7,
   "id": "f861f214-84c1-4947-a0c9-08752ceb88fc",
   "metadata": {},
   "outputs": [
    {
     "name": "stdout",
     "output_type": "stream",
     "text": [
      "Hello I'm Ryan I am 12 years old\n"
     ]
    }
   ],
   "source": [
    "# Using .format\n",
    "print(\"Hello I'm {} I am {} years old\".format(name , age))\n"
   ]
  },
  {
   "cell_type": "code",
   "execution_count": 1,
   "id": "cb000ebf-39cd-4675-a1ee-2a8b6936742d",
   "metadata": {},
   "outputs": [
    {
     "name": "stdin",
     "output_type": "stream",
     "text": [
      "Enter your name :  Praneela\n"
     ]
    },
    {
     "data": {
      "text/plain": [
       "'Praneela'"
      ]
     },
     "execution_count": 1,
     "metadata": {},
     "output_type": "execute_result"
    }
   ],
   "source": [
    "#Basic inputs from the user\n",
    "input(\"Enter your name : \")"
   ]
  },
  {
   "cell_type": "code",
   "execution_count": 2,
   "id": "fc95aabd-1a6e-4aed-8932-a74775080afc",
   "metadata": {},
   "outputs": [
    {
     "name": "stdin",
     "output_type": "stream",
     "text": [
      "Enter your name :  Praneela\n"
     ]
    }
   ],
   "source": [
    "name = input(\"Enter your name : \")"
   ]
  },
  {
   "cell_type": "code",
   "execution_count": 3,
   "id": "8ef14369-fc46-4ccb-a7d8-de3617ebffe8",
   "metadata": {},
   "outputs": [
    {
     "name": "stdin",
     "output_type": "stream",
     "text": [
      "Enter your name :  Ryan\n"
     ]
    },
    {
     "name": "stdout",
     "output_type": "stream",
     "text": [
      "Ryan\n"
     ]
    }
   ],
   "source": [
    "name = input(\"Enter your name : \")\n",
    "print(name)"
   ]
  },
  {
   "cell_type": "code",
   "execution_count": null,
   "id": "331bf7a2-f7b3-4df4-978c-c1ad926f5c1e",
   "metadata": {},
   "outputs": [
    {
     "name": "stdin",
     "output_type": "stream",
     "text": [
      "Enter your age :  12\n"
     ]
    },
    {
     "name": "stdout",
     "output_type": "stream",
     "text": [
      "12\n"
     ]
    }
   ],
   "source": [
    "age = int(input(\"Enter your age : \"))\n",
    "print(age)\n",
    "type(age)\n",
    "height = float(input(\"Enter height :\"))\n",
    "print(height)\n",
    "type(height)"
   ]
  },
  {
   "cell_type": "code",
   "execution_count": null,
   "id": "3011d6bd-f2e4-48a1-b393-d4d76181aa01",
   "metadata": {},
   "outputs": [],
   "source": []
  }
 ],
 "metadata": {
  "kernelspec": {
   "display_name": "Python [conda env:base] *",
   "language": "python",
   "name": "conda-base-py"
  },
  "language_info": {
   "codemirror_mode": {
    "name": "ipython",
    "version": 3
   },
   "file_extension": ".py",
   "mimetype": "text/x-python",
   "name": "python",
   "nbconvert_exporter": "python",
   "pygments_lexer": "ipython3",
   "version": "3.12.7"
  }
 },
 "nbformat": 4,
 "nbformat_minor": 5
}
