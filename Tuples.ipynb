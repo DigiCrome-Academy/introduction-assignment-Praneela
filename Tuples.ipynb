{
 "cells": [
  {
   "cell_type": "code",
   "execution_count": 5,
   "id": "d8c0743c-a011-4ecd-b605-ba968817d39a",
   "metadata": {},
   "outputs": [
    {
     "name": "stdout",
     "output_type": "stream",
     "text": [
      "[('Sam', 95), ('Jack', 90), ('Anil', 79), ('Ron', 70)]\n",
      "[('Ron', 70), ('Anil', 79), ('Jack', 90), ('Sam', 95)]\n"
     ]
    }
   ],
   "source": [
    "students = [(\"Anil\",79) , (\"Jack\", 90), (\"Ron\",70),(\"Sam\",95)]\n",
    "\n",
    "sorted_students_desc = sorted(students, key = lambda x : x[1] , reverse = True)\n",
    "sorted_students_asc = sorted(students, key = lambda x : x[1] , reverse = False)\n",
    "print(sorted_students_desc)\n",
    "print(sorted_students_asc)"
   ]
  },
  {
   "cell_type": "code",
   "execution_count": null,
   "id": "e08964ef-a4ec-48b7-af62-72f6dbe10c21",
   "metadata": {},
   "outputs": [],
   "source": []
  }
 ],
 "metadata": {
  "kernelspec": {
   "display_name": "Python [conda env:base] *",
   "language": "python",
   "name": "conda-base-py"
  },
  "language_info": {
   "codemirror_mode": {
    "name": "ipython",
    "version": 3
   },
   "file_extension": ".py",
   "mimetype": "text/x-python",
   "name": "python",
   "nbconvert_exporter": "python",
   "pygments_lexer": "ipython3",
   "version": "3.12.7"
  }
 },
 "nbformat": 4,
 "nbformat_minor": 5
}
